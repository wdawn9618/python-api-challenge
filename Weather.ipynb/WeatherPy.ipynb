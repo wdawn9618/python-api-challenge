{
 "cells": [
  {
   "cell_type": "markdown",
   "metadata": {},
   "source": [
    "# WeatherPy\n",
    "----\n",
    "\n",
    "#### Note\n",
    "* Instructions have been included for each segment. You do not have to follow them exactly, but they are included to help you think through the steps."
   ]
  },
  {
   "cell_type": "code",
   "execution_count": 1,
   "metadata": {},
   "outputs": [
    {
     "name": "stdout",
     "output_type": "stream",
     "text": [
      "Requirement already satisfied: citipy in c:\\users\\owner\\anaconda3\\python\\lib\\site-packages (0.0.5)\n",
      "Requirement already satisfied: kdtree>=0.12 in c:\\users\\owner\\anaconda3\\python\\lib\\site-packages (from citipy) (0.16)\n"
     ]
    }
   ],
   "source": [
    "!pip install citipy"
   ]
  },
  {
   "cell_type": "code",
   "execution_count": 2,
   "metadata": {
    "scrolled": true
   },
   "outputs": [],
   "source": [
    "#Dependencies\n",
    "from citipy import citipy\n",
    "import pandas as pd\n",
    "import numpy as np\n",
    "import matplotlib.pyplot as plt\n",
    "import requests\n",
    "import json\n",
    "import scipy.stats as st\n",
    "from scipy.stats import linregress\n",
    "import time\n",
    "\n",
    "#API Key\n",
    "from api_keys import weather_api_key\n",
    "\n",
    "retrieved_data_file = \"data_cities.csv\"\n",
    "\n",
    "output_file = \"output_data.csv\"\n",
    "\n",
    "latitude = (-90, 90)\n",
    "longitude = (-180, 180)\n"
   ]
  },
  {
   "cell_type": "markdown",
   "metadata": {},
   "source": [
    "## Generate Cities List"
   ]
  },
  {
   "cell_type": "code",
   "execution_count": 3,
   "metadata": {},
   "outputs": [
    {
     "data": {
      "text/plain": [
       "606"
      ]
     },
     "execution_count": 3,
     "metadata": {},
     "output_type": "execute_result"
    }
   ],
   "source": [
    "# List for holding latitude and longitude and cities\n",
    "lats_longs = []\n",
    "cities = []\n",
    "\n",
    "# Create a set of random combinations\n",
    "lats = np.random.uniform(low=-90.000, high=90.000, size=1500)\n",
    "longs = np.random.uniform(low=-180.000, high=180.000, size=1500)\n",
    "lats_longs = zip(lats, longs)\n",
    "\n",
    "# Identify nearest city for combinations\n",
    "for lats_longs in lats_longs:\n",
    "    city = citipy.nearest_city(lats_longs[0], lats_longs[1]).city_name\n",
    "    \n",
    "    # add unique cities to list\n",
    "    if city not in cities:\n",
    "        cities.append(city)\n",
    "\n",
    "# Print the city count to confirm sufficient count\n",
    "len(cities)"
   ]
  },
  {
   "cell_type": "markdown",
   "metadata": {},
   "source": [
    "### Perform API Calls\n",
    "* Perform a weather check on each city using a series of successive API calls.\n",
    "* Include a print log of each city as it'sbeing processed (with the city number and city name).\n"
   ]
  },
  {
   "cell_type": "code",
   "execution_count": 6,
   "metadata": {
    "scrolled": true
   },
   "outputs": [
    {
     "data": {
      "text/plain": [
       "'http://api.openweathermap.org/data/2.5/forecast?id=524901&APPID=dd37b7776d0dd796a4150454daa58f09'"
      ]
     },
     "execution_count": 6,
     "metadata": {},
     "output_type": "execute_result"
    }
   ],
   "source": [
    "url = \"http://api.openweathermap.org/data/2.5/forecast?id=524901&APPID=\"\n",
    "main_url = url + weather_api_key\n",
    "main_url"
   ]
  },
  {
   "cell_type": "code",
   "execution_count": 7,
   "metadata": {},
   "outputs": [
    {
     "name": "stdout",
     "output_type": "stream",
     "text": [
      "Processing record 1 of Set 1 | sembe\n",
      "Processing record 2 of Set 1 | cape town\n",
      "Processing record 3 of Set 1 | ushuaia\n",
      "Processing record 4 of Set 1 | castro\n",
      "Processing record 5 of Set 1 | contamana\n",
      "Processing record 6 of Set 1 | provideniya\n",
      "Processing record 7 of Set 1 | nanortalik\n",
      "Processing record 8 of Set 1 | puerto del rosario\n",
      "Processing record 9 of Set 1 | bredasdorp\n",
      "Processing record 10 of Set 1 | grants\n",
      "Processing record 11 of Set 1 | port elizabeth\n",
      "No city found - skip record\n",
      "Processing record 12 of Set 1 | bonthe\n",
      "Processing record 13 of Set 1 | puerto ayora\n",
      "Processing record 14 of Set 1 | thompson\n",
      "No city found - skip record\n",
      "Processing record 15 of Set 1 | marivan\n",
      "Processing record 16 of Set 1 | bethel\n",
      "Processing record 17 of Set 1 | lima\n",
      "Processing record 18 of Set 1 | georgetown\n",
      "Processing record 19 of Set 1 | hermanus\n",
      "Processing record 20 of Set 1 | vaini\n",
      "Processing record 21 of Set 1 | hilo\n",
      "Processing record 22 of Set 1 | new norfolk\n",
      "Processing record 23 of Set 1 | souillac\n",
      "No city found - skip record\n",
      "No city found - skip record\n",
      "Processing record 24 of Set 1 | ambon\n",
      "Processing record 25 of Set 1 | pahrump\n",
      "Processing record 26 of Set 1 | doha\n",
      "Processing record 27 of Set 1 | southbridge\n",
      "Processing record 28 of Set 1 | okhotsk\n",
      "No city found - skip record\n",
      "Processing record 29 of Set 1 | albany\n",
      "Processing record 30 of Set 1 | punta arenas\n",
      "Processing record 31 of Set 1 | jian\n",
      "No city found - skip record\n",
      "Processing record 32 of Set 1 | la ronge\n",
      "Processing record 33 of Set 1 | butaritari\n",
      "Processing record 34 of Set 1 | batemans bay\n",
      "Processing record 35 of Set 1 | rikitea\n",
      "Processing record 36 of Set 1 | gigmoto\n",
      "No city found - skip record\n",
      "Processing record 37 of Set 1 | columbus\n",
      "Processing record 38 of Set 1 | ilulissat\n",
      "Processing record 39 of Set 1 | port alfred\n",
      "Processing record 40 of Set 1 | calnali\n",
      "Processing record 41 of Set 1 | busselton\n",
      "Processing record 42 of Set 1 | east london\n",
      "Processing record 43 of Set 1 | bystryy istok\n",
      "Processing record 44 of Set 1 | coihaique\n",
      "Processing record 45 of Set 1 | jalu\n",
      "Processing record 46 of Set 1 | lielvarde\n",
      "Processing record 47 of Set 1 | kruisfontein\n",
      "Processing record 48 of Set 1 | avarua\n",
      "Processing record 49 of Set 1 | yellowknife\n",
      "Processing record 50 of Set 1 | tuktoyaktuk\n",
      "Processing record 51 of Set 1 | kahului\n",
      "Processing record 52 of Set 1 | jamestown\n",
      "Processing record 53 of Set 1 | saint george\n",
      "Processing record 54 of Set 1 | victoria\n",
      "Processing record 55 of Set 1 | winchester\n",
      "Processing record 56 of Set 1 | acarau\n",
      "Processing record 57 of Set 1 | airai\n",
      "Processing record 58 of Set 1 | mataura\n",
      "Processing record 59 of Set 1 | atasu\n",
      "Processing record 60 of Set 1 | saint-philippe\n",
      "Processing record 61 of Set 1 | bluff\n",
      "No city found - skip record\n",
      "Processing record 62 of Set 1 | dikson\n",
      "Processing record 63 of Set 1 | cabo san lucas\n",
      "Processing record 64 of Set 1 | bengkulu\n",
      "Processing record 65 of Set 1 | manokwari\n",
      "Processing record 66 of Set 1 | barrow\n",
      "Processing record 67 of Set 1 | chake chake\n",
      "Processing record 68 of Set 1 | hobart\n",
      "Processing record 69 of Set 1 | lusambo\n",
      "Processing record 70 of Set 1 | port lincoln\n",
      "No city found - skip record\n",
      "No city found - skip record\n",
      "Processing record 71 of Set 1 | mehamn\n",
      "Processing record 72 of Set 1 | kaitangata\n",
      "Processing record 73 of Set 1 | kaoma\n",
      "No city found - skip record\n",
      "Processing record 74 of Set 1 | ust-tsilma\n",
      "Processing record 75 of Set 1 | hithadhoo\n",
      "Processing record 76 of Set 1 | kapaa\n",
      "No city found - skip record\n",
      "Processing record 77 of Set 1 | yamandu\n",
      "No city found - skip record\n",
      "Processing record 78 of Set 1 | egvekinot\n",
      "No city found - skip record\n",
      "Processing record 79 of Set 1 | bitung\n",
      "Processing record 80 of Set 1 | katsuura\n",
      "Processing record 81 of Set 1 | ballina\n",
      "Processing record 82 of Set 1 | hauterive\n",
      "Processing record 83 of Set 1 | sao filipe\n",
      "Processing record 84 of Set 1 | kodiak\n",
      "Processing record 85 of Set 1 | bathsheba\n",
      "Processing record 86 of Set 1 | carnarvon\n",
      "Processing record 87 of Set 1 | sitka\n",
      "Processing record 88 of Set 1 | merrill\n",
      "Processing record 89 of Set 1 | keti bandar\n",
      "Processing record 90 of Set 1 | los llanos de aridane\n",
      "No city found - skip record\n",
      "Processing record 91 of Set 1 | barendrecht\n",
      "Processing record 92 of Set 1 | san patricio\n",
      "Processing record 93 of Set 1 | cidreira\n",
      "Processing record 94 of Set 1 | nicoya\n",
      "Processing record 95 of Set 1 | ajaccio\n",
      "Processing record 96 of Set 1 | te anau\n",
      "Processing record 97 of Set 1 | beringovskiy\n",
      "Processing record 98 of Set 1 | shache\n",
      "Processing record 99 of Set 1 | champerico\n",
      "Processing record 100 of Set 1 | atuona\n",
      "Processing record 101 of Set 1 | kavaratti\n",
      "Processing record 102 of Set 1 | north bend\n",
      "Processing record 103 of Set 1 | nome\n",
      "Processing record 104 of Set 1 | kandrian\n",
      "Processing record 105 of Set 1 | khatanga\n",
      "Processing record 106 of Set 1 | chuy\n",
      "Processing record 107 of Set 1 | hasaki\n",
      "Processing record 108 of Set 1 | tomari\n",
      "Processing record 109 of Set 1 | tyrma\n",
      "No city found - skip record\n",
      "Processing record 110 of Set 1 | acapulco\n",
      "Processing record 111 of Set 1 | homer\n",
      "Processing record 112 of Set 1 | gat\n",
      "Processing record 113 of Set 1 | bundaberg\n",
      "Processing record 114 of Set 1 | qaqortoq\n",
      "Processing record 115 of Set 1 | goderich\n",
      "Processing record 116 of Set 1 | sarab\n",
      "Processing record 117 of Set 1 | bambous virieux\n",
      "Processing record 118 of Set 1 | clyde river\n",
      "Processing record 119 of Set 1 | mar del plata\n",
      "Processing record 120 of Set 1 | salalah\n",
      "Processing record 121 of Set 1 | ayr\n",
      "Processing record 122 of Set 1 | inuvik\n",
      "Processing record 123 of Set 1 | shelburne\n",
      "Processing record 124 of Set 1 | youghal\n",
      "Processing record 125 of Set 1 | sola\n",
      "Processing record 126 of Set 1 | valparaiso\n",
      "Processing record 127 of Set 1 | sable-sur-sarthe\n",
      "Processing record 128 of Set 1 | davenda\n",
      "Processing record 129 of Set 1 | yining\n",
      "Processing record 130 of Set 1 | alofi\n",
      "Processing record 131 of Set 1 | pimentel\n",
      "Processing record 132 of Set 1 | klaksvik\n",
      "Processing record 133 of Set 1 | esperance\n",
      "Processing record 134 of Set 1 | wuwei\n",
      "No city found - skip record\n",
      "Processing record 135 of Set 1 | swan hill\n",
      "Processing record 136 of Set 1 | seinajoki\n",
      "Processing record 137 of Set 1 | norman wells\n",
      "Processing record 138 of Set 1 | kashan\n",
      "Processing record 139 of Set 1 | mattru\n",
      "No city found - skip record\n",
      "Processing record 140 of Set 1 | saldanha\n",
      "Processing record 141 of Set 1 | tasiilaq\n",
      "Processing record 142 of Set 1 | kodinsk\n",
      "Processing record 143 of Set 1 | codrington\n",
      "Processing record 144 of Set 1 | normandin\n",
      "Processing record 145 of Set 1 | arandis\n",
      "Processing record 146 of Set 1 | lipin bor\n",
      "Processing record 147 of Set 1 | broome\n",
      "Processing record 148 of Set 1 | makakilo city\n",
      "Processing record 149 of Set 1 | half moon bay\n",
      "Processing record 150 of Set 1 | waingapu\n",
      "Processing record 151 of Set 1 | yorkton\n",
      "Processing record 152 of Set 1 | mujiayingzi\n",
      "Processing record 153 of Set 1 | aloha\n",
      "Processing record 154 of Set 1 | udachnyy\n",
      "Processing record 155 of Set 1 | iskateley\n",
      "No city found - skip record\n",
      "Processing record 156 of Set 1 | ayan\n",
      "Processing record 157 of Set 1 | saskylakh\n",
      "Processing record 158 of Set 1 | mareeba\n",
      "Processing record 159 of Set 1 | bud\n",
      "No city found - skip record\n",
      "Processing record 160 of Set 1 | karratha\n",
      "Processing record 161 of Set 1 | port-gentil\n",
      "Processing record 162 of Set 1 | qaanaaq\n",
      "Processing record 163 of Set 1 | araouane\n",
      "Processing record 164 of Set 1 | vanavara\n",
      "Processing record 165 of Set 1 | weihai\n",
      "Processing record 166 of Set 1 | ribeira grande\n",
      "Processing record 167 of Set 1 | alice springs\n",
      "Processing record 168 of Set 1 | tiksi\n",
      "No city found - skip record\n",
      "Processing record 169 of Set 1 | cookeville\n",
      "No city found - skip record\n",
      "Processing record 170 of Set 1 | talaya\n",
      "Processing record 171 of Set 1 | abu samrah\n",
      "Processing record 172 of Set 1 | narsaq\n",
      "Processing record 173 of Set 1 | hay river\n",
      "Processing record 174 of Set 1 | upernavik\n",
      "Processing record 175 of Set 1 | tobol\n",
      "Processing record 176 of Set 1 | vanimo\n",
      "Processing record 177 of Set 1 | oussouye\n",
      "Processing record 178 of Set 1 | sambava\n",
      "Processing record 179 of Set 1 | tubuala\n",
      "Processing record 180 of Set 1 | uthal\n",
      "Processing record 181 of Set 1 | aitape\n",
      "Processing record 182 of Set 1 | rabat\n",
      "Processing record 183 of Set 1 | elko\n"
     ]
    },
    {
     "name": "stdout",
     "output_type": "stream",
     "text": [
      "Processing record 184 of Set 1 | kaithal\n",
      "Processing record 185 of Set 1 | mikhaylovsk\n",
      "Processing record 186 of Set 1 | najran\n",
      "Processing record 187 of Set 1 | derzhavinsk\n",
      "Processing record 188 of Set 1 | padang\n",
      "Processing record 189 of Set 1 | kropotkin\n",
      "Processing record 190 of Set 1 | nikel\n",
      "Processing record 191 of Set 1 | grand forks\n",
      "Processing record 192 of Set 1 | tiarei\n",
      "Processing record 193 of Set 1 | korla\n",
      "Processing record 194 of Set 1 | gizo\n",
      "Processing record 195 of Set 1 | mola di bari\n",
      "Processing record 196 of Set 1 | mirabad\n",
      "Processing record 197 of Set 1 | ozernovskiy\n",
      "Processing record 198 of Set 1 | buraydah\n",
      "Processing record 199 of Set 1 | kalga\n",
      "Processing record 200 of Set 1 | longyearbyen\n",
      "Processing record 201 of Set 1 | severnoye\n",
      "Processing record 202 of Set 1 | gazanjyk\n",
      "Processing record 203 of Set 1 | hambantota\n",
      "Processing record 204 of Set 1 | takoradi\n",
      "Processing record 205 of Set 1 | verkhnevilyuysk\n",
      "Processing record 206 of Set 1 | hualmay\n",
      "Processing record 207 of Set 1 | pevek\n",
      "Processing record 208 of Set 1 | merauke\n",
      "Processing record 209 of Set 1 | pinawa\n",
      "Processing record 210 of Set 1 | chumikan\n",
      "Processing record 211 of Set 1 | heinola\n",
      "Processing record 212 of Set 1 | isangel\n",
      "Processing record 213 of Set 1 | maine-soroa\n",
      "Processing record 214 of Set 1 | maracacume\n",
      "Processing record 215 of Set 1 | vila do maio\n",
      "Processing record 216 of Set 1 | ngunguru\n",
      "Processing record 217 of Set 1 | yerbogachen\n",
      "Processing record 218 of Set 1 | izvoarele sucevei\n",
      "Processing record 219 of Set 1 | shuyskoye\n",
      "Processing record 220 of Set 1 | liaoyang\n",
      "Processing record 221 of Set 1 | dakar\n",
      "Processing record 222 of Set 1 | pringsewu\n",
      "Processing record 223 of Set 1 | lagoa\n",
      "Processing record 224 of Set 1 | atar\n",
      "Processing record 225 of Set 1 | shenjiamen\n",
      "Processing record 226 of Set 1 | vestmannaeyjar\n",
      "Processing record 227 of Set 1 | durban\n",
      "Processing record 228 of Set 1 | waipawa\n",
      "Processing record 229 of Set 1 | calatayud\n",
      "Processing record 230 of Set 1 | high level\n",
      "Processing record 231 of Set 1 | tilichiki\n",
      "No city found - skip record\n",
      "Processing record 232 of Set 1 | chokurdakh\n",
      "Processing record 233 of Set 1 | faanui\n",
      "Processing record 234 of Set 1 | nikolskoye\n",
      "Processing record 235 of Set 1 | leshan\n",
      "Processing record 236 of Set 1 | fort dodge\n",
      "Processing record 237 of Set 1 | kotelnich\n",
      "No city found - skip record\n",
      "Processing record 238 of Set 1 | terney\n",
      "Processing record 239 of Set 1 | nawalapitiya\n",
      "Processing record 240 of Set 1 | samana\n",
      "Processing record 241 of Set 1 | maniitsoq\n",
      "Processing record 242 of Set 1 | tashtyp\n",
      "Processing record 243 of Set 1 | lourdes\n",
      "No city found - skip record\n",
      "No city found - skip record\n",
      "Processing record 244 of Set 1 | abu kamal\n",
      "No city found - skip record\n",
      "Processing record 245 of Set 1 | nioro\n",
      "Processing record 246 of Set 1 | inongo\n",
      "Processing record 247 of Set 1 | torbay\n",
      "Processing record 248 of Set 1 | namibe\n",
      "No city found - skip record\n",
      "Processing record 249 of Set 1 | le port\n",
      "Processing record 250 of Set 1 | luderitz\n",
      "Processing record 251 of Set 1 | henties bay\n",
      "Processing record 252 of Set 1 | goure\n",
      "Processing record 253 of Set 1 | coquimbo\n",
      "Processing record 254 of Set 1 | kharan\n",
      "Processing record 255 of Set 1 | clearlake\n",
      "Processing record 256 of Set 1 | cayenne\n",
      "Processing record 257 of Set 1 | abashiri\n",
      "Processing record 258 of Set 1 | holme\n",
      "Processing record 259 of Set 1 | saint-francois\n",
      "Processing record 260 of Set 1 | itacoatiara\n",
      "No city found - skip record\n",
      "Processing record 261 of Set 1 | road town\n",
      "Processing record 262 of Set 1 | minot\n",
      "Processing record 263 of Set 1 | borovskoy\n",
      "Processing record 264 of Set 1 | sterling\n",
      "Processing record 265 of Set 1 | damaturu\n",
      "Processing record 266 of Set 1 | geraldton\n",
      "Processing record 267 of Set 1 | sangueya\n",
      "Processing record 268 of Set 1 | lavrentiya\n",
      "Processing record 269 of Set 1 | aswan\n",
      "Processing record 270 of Set 1 | campbell river\n",
      "Processing record 271 of Set 1 | san quintin\n",
      "Processing record 272 of Set 1 | dukat\n",
      "No city found - skip record\n",
      "Processing record 273 of Set 1 | wanning\n",
      "Processing record 274 of Set 1 | kamiiso\n",
      "Processing record 275 of Set 1 | tucurui\n",
      "Processing record 276 of Set 1 | noumea\n",
      "Processing record 277 of Set 1 | kyaikkami\n",
      "Processing record 278 of Set 1 | tete\n",
      "Processing record 279 of Set 1 | iqaluit\n",
      "Processing record 280 of Set 1 | leningradskiy\n",
      "Processing record 281 of Set 1 | gazli\n",
      "Processing record 282 of Set 1 | port macquarie\n",
      "Processing record 283 of Set 1 | poso\n",
      "Processing record 284 of Set 1 | baykit\n",
      "Processing record 285 of Set 1 | garowe\n",
      "Processing record 286 of Set 1 | portland\n",
      "No city found - skip record\n",
      "Processing record 287 of Set 1 | saint-georges\n",
      "Processing record 288 of Set 1 | benicarlo\n",
      "Processing record 289 of Set 1 | saint simons\n",
      "Processing record 290 of Set 1 | klyuchi\n",
      "Processing record 291 of Set 1 | arroio grande\n",
      "Processing record 292 of Set 1 | ponta do sol\n",
      "Processing record 293 of Set 1 | pushkino\n",
      "Processing record 294 of Set 1 | brae\n",
      "Processing record 295 of Set 1 | fiumicino\n",
      "Processing record 296 of Set 1 | kasongo\n",
      "Processing record 297 of Set 1 | desaguadero\n",
      "Processing record 298 of Set 1 | grindavik\n",
      "Processing record 299 of Set 1 | bilecik\n",
      "Processing record 300 of Set 1 | sisimiut\n",
      "Processing record 301 of Set 1 | lavumisa\n",
      "Processing record 302 of Set 1 | moose factory\n",
      "Processing record 303 of Set 1 | quatre cocos\n",
      "Processing record 304 of Set 1 | mount isa\n",
      "Processing record 305 of Set 1 | xuddur\n",
      "No city found - skip record\n",
      "Processing record 306 of Set 1 | kuusamo\n",
      "Processing record 307 of Set 1 | port blair\n",
      "Processing record 308 of Set 1 | umm lajj\n",
      "Processing record 309 of Set 1 | husavik\n",
      "Processing record 310 of Set 1 | yaan\n",
      "Processing record 311 of Set 1 | apatity\n",
      "Processing record 312 of Set 1 | kupang\n",
      "Processing record 313 of Set 1 | lompoc\n",
      "Processing record 314 of Set 1 | tailai\n",
      "Processing record 315 of Set 1 | arraial do cabo\n",
      "Processing record 316 of Set 1 | gondanglegi\n",
      "Processing record 317 of Set 1 | haines junction\n",
      "No city found - skip record\n",
      "Processing record 318 of Set 1 | huarmey\n",
      "Processing record 319 of Set 1 | yushu\n",
      "Processing record 320 of Set 1 | kaeo\n",
      "Processing record 321 of Set 1 | aklavik\n",
      "Processing record 322 of Set 1 | sur\n",
      "No city found - skip record\n",
      "Processing record 323 of Set 1 | pisco\n",
      "Processing record 324 of Set 1 | baracoa\n",
      "Processing record 325 of Set 1 | chapais\n",
      "No city found - skip record\n",
      "Processing record 326 of Set 1 | margate\n",
      "Processing record 327 of Set 1 | vila velha\n",
      "Processing record 328 of Set 1 | talnakh\n",
      "Processing record 329 of Set 1 | awbari\n",
      "Processing record 330 of Set 1 | magdug\n",
      "Processing record 331 of Set 1 | puerto escondido\n",
      "Processing record 332 of Set 1 | nieuw amsterdam\n",
      "Processing record 333 of Set 1 | oranjestad\n",
      "Processing record 334 of Set 1 | benguela\n",
      "Processing record 335 of Set 1 | lebu\n",
      "Processing record 336 of Set 1 | fortuna\n",
      "Processing record 337 of Set 1 | minab\n",
      "Processing record 338 of Set 1 | hamilton\n",
      "No city found - skip record\n",
      "Processing record 339 of Set 1 | talakan\n",
      "Processing record 340 of Set 1 | batticaloa\n",
      "No city found - skip record\n",
      "Processing record 341 of Set 1 | khandyga\n",
      "Processing record 342 of Set 1 | pathein\n",
      "Processing record 343 of Set 1 | zhanaozen\n",
      "Processing record 344 of Set 1 | saint anthony\n",
      "Processing record 345 of Set 1 | leoben\n",
      "Processing record 346 of Set 1 | guerrero negro\n",
      "Processing record 347 of Set 1 | mahebourg\n",
      "Processing record 348 of Set 1 | mogadishu\n",
      "Processing record 349 of Set 1 | catamarca\n",
      "Processing record 350 of Set 1 | lagunas\n",
      "Processing record 351 of Set 1 | sharlyk\n",
      "Processing record 352 of Set 1 | malapag\n",
      "Processing record 353 of Set 1 | mathathane\n",
      "Processing record 354 of Set 1 | yarmouth\n",
      "Processing record 355 of Set 1 | sakakah\n",
      "Processing record 356 of Set 1 | khash\n",
      "Processing record 357 of Set 1 | yenagoa\n",
      "Processing record 358 of Set 1 | severo-kurilsk\n",
      "Processing record 359 of Set 1 | riyadh\n",
      "Processing record 360 of Set 1 | nizhniy kuranakh\n",
      "Processing record 361 of Set 1 | polovinnoye\n",
      "Processing record 362 of Set 1 | jijiga\n",
      "Processing record 363 of Set 1 | cilegon\n",
      "Processing record 364 of Set 1 | ormara\n",
      "No city found - skip record\n",
      "Processing record 365 of Set 1 | aberdeen\n",
      "Processing record 366 of Set 1 | sainte-suzanne\n",
      "Processing record 367 of Set 1 | touros\n"
     ]
    },
    {
     "name": "stdout",
     "output_type": "stream",
     "text": [
      "Processing record 368 of Set 1 | ossora\n",
      "Processing record 369 of Set 1 | bam\n",
      "No city found - skip record\n",
      "Processing record 370 of Set 1 | kudahuvadhoo\n",
      "Processing record 371 of Set 1 | laiwu\n",
      "Processing record 372 of Set 1 | kaniama\n",
      "Processing record 373 of Set 1 | opuwo\n",
      "No city found - skip record\n",
      "Processing record 374 of Set 1 | manggar\n",
      "Processing record 375 of Set 1 | itarema\n",
      "Processing record 376 of Set 1 | ahipara\n",
      "Processing record 377 of Set 1 | kieta\n",
      "Processing record 378 of Set 1 | hobyo\n",
      "Processing record 379 of Set 1 | bafq\n",
      "Processing record 380 of Set 1 | lorengau\n",
      "Processing record 381 of Set 1 | zaozerne\n",
      "Processing record 382 of Set 1 | san andres\n",
      "Processing record 383 of Set 1 | coracora\n",
      "Processing record 384 of Set 1 | zunyi\n",
      "Processing record 385 of Set 1 | nouakchott\n",
      "Processing record 386 of Set 1 | nisia floresta\n",
      "Processing record 387 of Set 1 | de-kastri\n",
      "Processing record 388 of Set 1 | flinders\n",
      "Processing record 389 of Set 1 | palmeirais\n",
      "Processing record 390 of Set 1 | ishim\n",
      "Processing record 391 of Set 1 | cave spring\n",
      "Processing record 392 of Set 1 | beniganj\n",
      "Processing record 393 of Set 1 | golden\n",
      "Processing record 394 of Set 1 | aljezur\n",
      "Processing record 395 of Set 1 | viedma\n",
      "Processing record 396 of Set 1 | hanna\n",
      "Processing record 397 of Set 1 | ambulu\n",
      "Processing record 398 of Set 1 | taoudenni\n",
      "Processing record 399 of Set 1 | lazaro cardenas\n",
      "Processing record 400 of Set 1 | sibolga\n",
      "No city found - skip record\n",
      "No city found - skip record\n",
      "Processing record 401 of Set 1 | sillanwali\n",
      "Processing record 402 of Set 1 | vieste\n",
      "Processing record 403 of Set 1 | komsomolskiy\n",
      "Processing record 404 of Set 1 | tigre\n",
      "Processing record 405 of Set 1 | tawau\n",
      "Processing record 406 of Set 1 | ouango\n",
      "Processing record 407 of Set 1 | besikduzu\n",
      "Processing record 408 of Set 1 | biloela\n",
      "Processing record 409 of Set 1 | raudeberg\n",
      "Processing record 410 of Set 1 | senneterre\n",
      "Processing record 411 of Set 1 | castle bruce\n",
      "Processing record 412 of Set 1 | seoul\n",
      "Processing record 413 of Set 1 | matay\n",
      "Processing record 414 of Set 1 | abu dhabi\n",
      "Processing record 415 of Set 1 | nanning\n",
      "Processing record 416 of Set 1 | cape coast\n",
      "Processing record 417 of Set 1 | vao\n",
      "Processing record 418 of Set 1 | alawalpur\n",
      "Processing record 419 of Set 1 | varena\n",
      "Processing record 420 of Set 1 | krasnaya gora\n",
      "Processing record 421 of Set 1 | mehran\n",
      "Processing record 422 of Set 1 | camana\n",
      "Processing record 423 of Set 1 | puerto narino\n",
      "Processing record 424 of Set 1 | mount gambier\n",
      "Processing record 425 of Set 1 | pankovka\n",
      "Processing record 426 of Set 1 | boshnyakovo\n",
      "Processing record 427 of Set 1 | shubarkuduk\n",
      "Processing record 428 of Set 1 | huilong\n",
      "Processing record 429 of Set 1 | bilma\n",
      "Processing record 430 of Set 1 | tefe\n",
      "Processing record 431 of Set 1 | cherskiy\n",
      "Processing record 432 of Set 1 | qitaihe\n",
      "Processing record 433 of Set 1 | altus\n",
      "Processing record 434 of Set 1 | loukhi\n",
      "Processing record 435 of Set 1 | kuching\n",
      "Processing record 436 of Set 1 | lexington park\n",
      "Processing record 437 of Set 1 | olafsvik\n",
      "Processing record 438 of Set 1 | tuatapere\n",
      "Processing record 439 of Set 1 | zhezkazgan\n",
      "Processing record 440 of Set 1 | kambove\n",
      "Processing record 441 of Set 1 | juneau\n",
      "Processing record 442 of Set 1 | san cristobal\n",
      "Processing record 443 of Set 1 | solnechnyy\n",
      "No city found - skip record\n",
      "Processing record 444 of Set 1 | yulara\n",
      "Processing record 445 of Set 1 | college\n",
      "Processing record 446 of Set 1 | olinda\n",
      "Processing record 447 of Set 1 | tarauaca\n",
      "Processing record 448 of Set 1 | labuhan\n",
      "Processing record 449 of Set 1 | ndele\n",
      "Processing record 450 of Set 1 | avallon\n",
      "Processing record 451 of Set 1 | luangwa\n",
      "Processing record 452 of Set 1 | caravelas\n",
      "Processing record 453 of Set 1 | morro bay\n",
      "No city found - skip record\n",
      "No city found - skip record\n",
      "Processing record 454 of Set 1 | san pedro\n",
      "Processing record 455 of Set 1 | constantine\n",
      "Processing record 456 of Set 1 | aiquile\n",
      "Processing record 457 of Set 1 | artsvaberd\n",
      "Processing record 458 of Set 1 | cockburn town\n",
      "Processing record 459 of Set 1 | ludvika\n",
      "Processing record 460 of Set 1 | harper\n",
      "Processing record 461 of Set 1 | bubaque\n",
      "Processing record 462 of Set 1 | namatanai\n",
      "Processing record 463 of Set 1 | conceicao das alagoas\n",
      "Processing record 464 of Set 1 | oistins\n",
      "Processing record 465 of Set 1 | clonakilty\n",
      "Processing record 466 of Set 1 | kapoeta\n",
      "Processing record 467 of Set 1 | saint marys\n",
      "Processing record 468 of Set 1 | hegang\n",
      "Processing record 469 of Set 1 | erice\n",
      "Processing record 470 of Set 1 | ostrovnoy\n",
      "Processing record 471 of Set 1 | wenling\n",
      "Processing record 472 of Set 1 | bryan\n",
      "Processing record 473 of Set 1 | aleksandrovskiy zavod\n",
      "Processing record 474 of Set 1 | qasigiannguit\n",
      "Processing record 475 of Set 1 | belyy yar\n",
      "Processing record 476 of Set 1 | amot\n",
      "No city found - skip record\n",
      "No city found - skip record\n",
      "Processing record 477 of Set 1 | plaster rock\n",
      "Processing record 478 of Set 1 | verkhoyansk\n",
      "Processing record 479 of Set 1 | solok\n",
      "Processing record 480 of Set 1 | presidencia roque saenz pena\n",
      "Processing record 481 of Set 1 | nantucket\n",
      "Processing record 482 of Set 1 | kabanjahe\n",
      "Processing record 483 of Set 1 | sarahan\n",
      "Processing record 484 of Set 1 | la rioja\n",
      "Processing record 485 of Set 1 | pacific grove\n",
      "Processing record 486 of Set 1 | domoni\n",
      "Processing record 487 of Set 1 | leninsk\n",
      "Processing record 488 of Set 1 | vikhorevka\n",
      "Processing record 489 of Set 1 | portales\n",
      "Processing record 490 of Set 1 | znamenskoye\n",
      "Processing record 491 of Set 1 | pasighat\n",
      "Processing record 492 of Set 1 | hvide sande\n",
      "Processing record 493 of Set 1 | sergeyevka\n",
      "Processing record 494 of Set 1 | skibbereen\n",
      "Processing record 495 of Set 1 | nobeoka\n",
      "Processing record 496 of Set 1 | turochak\n",
      "Processing record 497 of Set 1 | matias romero\n",
      "No city found - skip record\n",
      "Processing record 498 of Set 1 | slave lake\n",
      "No city found - skip record\n",
      "Processing record 499 of Set 1 | palencia\n",
      "Processing record 500 of Set 1 | bardiyah\n",
      "Processing record 501 of Set 1 | asfi\n",
      "Processing record 502 of Set 1 | mitsamiouli\n",
      "Processing record 503 of Set 1 | makubetsu\n",
      "Processing record 504 of Set 1 | zaysan\n",
      "Processing record 505 of Set 1 | tura\n",
      "Processing record 506 of Set 1 | mackay\n",
      "Processing record 507 of Set 1 | ancud\n",
      "Processing record 508 of Set 1 | roald\n",
      "Processing record 509 of Set 1 | batagay-alyta\n",
      "Processing record 510 of Set 1 | walker\n",
      "Processing record 511 of Set 1 | port moresby\n",
      "Processing record 512 of Set 1 | fayaoue\n",
      "Processing record 513 of Set 1 | ponta delgada\n",
      "Processing record 514 of Set 1 | christchurch\n",
      "Processing record 515 of Set 1 | luba\n",
      "Processing record 516 of Set 1 | san juan\n",
      "Processing record 517 of Set 1 | nuevo progreso\n",
      "Processing record 518 of Set 1 | grenville\n",
      "Processing record 519 of Set 1 | tonj\n",
      "Processing record 520 of Set 1 | linda\n",
      "Processing record 521 of Set 1 | brusyliv\n",
      "Processing record 522 of Set 1 | kizner\n",
      "Processing record 523 of Set 1 | neiafu\n",
      "Processing record 524 of Set 1 | sujiatun\n",
      "Processing record 525 of Set 1 | kawalu\n",
      "Processing record 526 of Set 1 | ask\n",
      "Processing record 527 of Set 1 | marawi\n",
      "Processing record 528 of Set 1 | lata\n",
      "Processing record 529 of Set 1 | probistip\n",
      "Processing record 530 of Set 1 | lukovetskiy\n",
      "Processing record 531 of Set 1 | kathmandu\n",
      "Processing record 532 of Set 1 | asau\n",
      "Processing record 533 of Set 1 | santander\n",
      "No city found - skip record\n",
      "Processing record 534 of Set 1 | zalantun\n",
      "Processing record 535 of Set 1 | auki\n",
      "Processing record 536 of Set 1 | kavieng\n",
      "Processing record 537 of Set 1 | porterville\n",
      "Processing record 538 of Set 1 | salem\n",
      "Processing record 539 of Set 1 | fort madison\n",
      "Processing record 540 of Set 1 | bonavista\n",
      "Processing record 541 of Set 1 | meulaboh\n",
      "Processing record 542 of Set 1 | tommot\n",
      "Processing record 543 of Set 1 | rio grande\n",
      "No city found - skip record\n",
      "Processing record 544 of Set 1 | kawambwa\n",
      "Processing record 545 of Set 1 | koslan\n",
      "Processing record 546 of Set 1 | boralday\n",
      "Processing record 547 of Set 1 | oksfjord\n",
      "Processing record 548 of Set 1 | manaus\n",
      "Processing record 549 of Set 1 | pitimbu\n",
      "Processing record 550 of Set 1 | jumla\n",
      "Processing record 551 of Set 1 | jishou\n",
      "Processing record 552 of Set 1 | calvinia\n",
      "Processing record 553 of Set 1 | msanga\n"
     ]
    },
    {
     "name": "stdout",
     "output_type": "stream",
     "text": [
      "Processing record 554 of Set 1 | ufa\n",
      "Processing record 555 of Set 1 | westport\n",
      "-----------------------------\n",
      "Data Retrieval Complete\n",
      "-----------------------------\n"
     ]
    }
   ],
   "source": [
    "name_of_city = []\n",
    "clouds = []\n",
    "country = []\n",
    "dates = []\n",
    "humidity = []\n",
    "latitude = []\n",
    "longitude = []\n",
    "temp_high = []\n",
    "wind_speed = []\n",
    "count = 0\n",
    "\n",
    "   \n",
    "for city in cities:\n",
    "    weather_response = requests.get(main_url + \"&q=\" + city + \"&units=Imperial\")\n",
    "    weather_out = weather_response.json()\n",
    "    try:\n",
    "        name_of_city.append(weather_out['city']['name'])\n",
    "        clouds.append(weather_out['list'][0]['clouds']['all'])\n",
    "        country.append(weather_out['city']['country'])\n",
    "        dates.append(weather_out['list'][0]['dt'])\n",
    "        humidity.append(weather_out['list'][0]['main']['humidity'])\n",
    "        latitude.append(weather_out['city']['coord']['lat'])\n",
    "        longitude.append(weather_out['city']['coord']['lon'])\n",
    "        temp_high.append(weather_out['list'][0]['main']['temp_max'])\n",
    "        wind_speed.append(weather_out['list'][0]['wind']['speed'])\n",
    "        count = count + 1\n",
    "        print(f\"Processing record {count} of Set 1 | {city}\")\n",
    "    except(KeyError, IndexError):\n",
    "        print(\"No city found - skip record\") \n",
    "                \n",
    "print(\"-----------------------------\")\n",
    "print(\"Data Retrieval Complete\")\n",
    "print(\"-----------------------------\")"
   ]
  },
  {
   "cell_type": "markdown",
   "metadata": {},
   "source": [
    "### Convert Raw Data to DataFrame\n",
    "* Export the city data into a .csv.\n",
    "* Display the DataFrame"
   ]
  },
  {
   "cell_type": "code",
   "execution_count": 8,
   "metadata": {},
   "outputs": [
    {
     "data": {
      "text/html": [
       "<div>\n",
       "<style scoped>\n",
       "    .dataframe tbody tr th:only-of-type {\n",
       "        vertical-align: middle;\n",
       "    }\n",
       "\n",
       "    .dataframe tbody tr th {\n",
       "        vertical-align: top;\n",
       "    }\n",
       "\n",
       "    .dataframe thead th {\n",
       "        text-align: right;\n",
       "    }\n",
       "</style>\n",
       "<table border=\"1\" class=\"dataframe\">\n",
       "  <thead>\n",
       "    <tr style=\"text-align: right;\">\n",
       "      <th></th>\n",
       "      <th>City</th>\n",
       "      <th>Latitude</th>\n",
       "      <th>Longitude</th>\n",
       "      <th>Max Temp</th>\n",
       "      <th>Humidity</th>\n",
       "      <th>Cloudiness</th>\n",
       "      <th>Wind Speed</th>\n",
       "      <th>Country</th>\n",
       "      <th>Date</th>\n",
       "    </tr>\n",
       "  </thead>\n",
       "  <tbody>\n",
       "    <tr>\n",
       "      <th>0</th>\n",
       "      <td>Sémbé</td>\n",
       "      <td>1.6481</td>\n",
       "      <td>14.5806</td>\n",
       "      <td>79.30</td>\n",
       "      <td>70</td>\n",
       "      <td>93</td>\n",
       "      <td>2.55</td>\n",
       "      <td>CG</td>\n",
       "      <td>1627236000</td>\n",
       "    </tr>\n",
       "    <tr>\n",
       "      <th>1</th>\n",
       "      <td>Cape Town</td>\n",
       "      <td>-33.9258</td>\n",
       "      <td>18.4232</td>\n",
       "      <td>61.29</td>\n",
       "      <td>46</td>\n",
       "      <td>33</td>\n",
       "      <td>6.49</td>\n",
       "      <td>ZA</td>\n",
       "      <td>1627236000</td>\n",
       "    </tr>\n",
       "    <tr>\n",
       "      <th>2</th>\n",
       "      <td>Ushuaia</td>\n",
       "      <td>-54.8000</td>\n",
       "      <td>-68.3000</td>\n",
       "      <td>36.70</td>\n",
       "      <td>85</td>\n",
       "      <td>60</td>\n",
       "      <td>5.59</td>\n",
       "      <td>AR</td>\n",
       "      <td>1627236000</td>\n",
       "    </tr>\n",
       "    <tr>\n",
       "      <th>3</th>\n",
       "      <td>Castro</td>\n",
       "      <td>-24.7911</td>\n",
       "      <td>-50.0119</td>\n",
       "      <td>70.07</td>\n",
       "      <td>41</td>\n",
       "      <td>1</td>\n",
       "      <td>7.70</td>\n",
       "      <td>BR</td>\n",
       "      <td>1627236000</td>\n",
       "    </tr>\n",
       "    <tr>\n",
       "      <th>4</th>\n",
       "      <td>Contamana</td>\n",
       "      <td>-7.3333</td>\n",
       "      <td>-75.0167</td>\n",
       "      <td>94.77</td>\n",
       "      <td>44</td>\n",
       "      <td>97</td>\n",
       "      <td>1.90</td>\n",
       "      <td>PE</td>\n",
       "      <td>1627236000</td>\n",
       "    </tr>\n",
       "  </tbody>\n",
       "</table>\n",
       "</div>"
      ],
      "text/plain": [
       "        City  Latitude  Longitude  Max Temp  Humidity  Cloudiness  Wind Speed  \\\n",
       "0      Sémbé    1.6481    14.5806     79.30        70          93        2.55   \n",
       "1  Cape Town  -33.9258    18.4232     61.29        46          33        6.49   \n",
       "2    Ushuaia  -54.8000   -68.3000     36.70        85          60        5.59   \n",
       "3     Castro  -24.7911   -50.0119     70.07        41           1        7.70   \n",
       "4  Contamana   -7.3333   -75.0167     94.77        44          97        1.90   \n",
       "\n",
       "  Country        Date  \n",
       "0      CG  1627236000  \n",
       "1      ZA  1627236000  \n",
       "2      AR  1627236000  \n",
       "3      BR  1627236000  \n",
       "4      PE  1627236000  "
      ]
     },
     "execution_count": 8,
     "metadata": {},
     "output_type": "execute_result"
    }
   ],
   "source": [
    "# Convert to Pandas DataFrame\n",
    "\n",
    "weather_perform = {\"City\": name_of_city,\"Latitude\": latitude, \"Longitude\": longitude,\n",
    "                \"Max Temp\":temp_high,\"Humidity\":humidity,\"Cloudiness\":clouds,\n",
    "                \"Wind Speed\":wind_speed,\"Country\":country, \"Date\":dates}\n",
    "weather_raw_data = pd.DataFrame(weather_perform)\n",
    "weather_raw_data.head()"
   ]
  },
  {
   "cell_type": "code",
   "execution_count": 9,
   "metadata": {},
   "outputs": [
    {
     "data": {
      "text/plain": [
       "555"
      ]
     },
     "execution_count": 9,
     "metadata": {},
     "output_type": "execute_result"
    }
   ],
   "source": [
    "#Export to csv\n",
    "weather_raw_data.to_csv(r'output_data.csv')\n",
    "\n",
    "display_list = len(weather_raw_data)\n",
    "display_list"
   ]
  },
  {
   "cell_type": "markdown",
   "metadata": {},
   "source": [
    "## Inspect the data and remove the cities where the humidity > 100%.\n",
    "----\n",
    "Skip this step if there are no cities that have humidity > 100%. "
   ]
  },
  {
   "cell_type": "markdown",
   "metadata": {},
   "source": [
    "## Plotting the Data\n",
    "* Use proper labeling of the plots using plot titles (including date of analysis) and axes labels.\n",
    "* Save the plotted figures as .pngs."
   ]
  },
  {
   "cell_type": "markdown",
   "metadata": {},
   "source": [
    "## Latitude vs. Temperature Plot"
   ]
  },
  {
   "cell_type": "code",
   "execution_count": 12,
   "metadata": {
    "scrolled": true
   },
   "outputs": [
    {
     "data": {
      "image/png": "[encoded data removed]",
      "text/plain": [
       "<Figure size 432x288 with 1 Axes>"
      ]
     },
     "metadata": {
      "needs_background": "light"
     },
     "output_type": "display_data"
    }
   ],
   "source": [
    "lat_vs_temp = weather_raw_data[\"Latitude\"]\n",
    "temp_plot = weather_raw_data[\"Max Temp\"]\n",
    "\n",
    "plt.scatter(lat_vs_temp,temp_plot)\n",
    "plt.title('City Latitude vs. Max Temperature(5/28/19)')\n",
    "plt.xlabel('Latitude')\n",
    "plt.ylabel('Max Temperature (F)')\n",
    "plt.savefig('pltlatitudevstemp')\n",
    "plt.show()\n"
   ]
  },
  {
   "cell_type": "markdown",
   "metadata": {},
   "source": [
    "## Latitude vs. Humidity Plot"
   ]
  },
  {
   "cell_type": "code",
   "execution_count": 13,
   "metadata": {},
   "outputs": [
    {
     "data": {
      "image/png": "[encoded data removed]",
      "text/plain": [
       "<Figure size 432x288 with 1 Axes>"
      ]
     },
     "metadata": {
      "needs_background": "light"
     },
     "output_type": "display_data"
    }
   ],
   "source": [
    "lat_vs_hum = weather_raw_data[\"Humidity\"]\n",
    "\n",
    "plt.scatter(lat_vs_temp,lat_vs_hum)\n",
    "plt.title('City Latitude vs. Humidity(5/28/19)')\n",
    "plt.xlabel('Latitude')\n",
    "plt.ylabel('Humidity (%)')\n",
    "plt.savefig('pltlatitudevshumidity')\n",
    "plt.show()"
   ]
  },
  {
   "cell_type": "markdown",
   "metadata": {},
   "source": [
    "## Latitude vs. Cloudiness Plot"
   ]
  },
  {
   "cell_type": "code",
   "execution_count": 14,
   "metadata": {},
   "outputs": [
    {
     "data": {
      "image/png": "[encoded data removed]",
      "text/plain": [
       "<Figure size 432x288 with 1 Axes>"
      ]
     },
     "metadata": {
      "needs_background": "light"
     },
     "output_type": "display_data"
    }
   ],
   "source": [
    "lat_vs_cloud = weather_raw_data[\"Cloudiness\"]\n",
    "\n",
    "plt.scatter(lat_vs_temp,lat_vs_cloud)\n",
    "plt.title('City Latitude vs. Cloudiness(8/22/18)')\n",
    "plt.xlabel('Latitude')\n",
    "plt.ylabel('Cloudiness (%)')\n",
    "plt.savefig('plotlatitudevscloudiness')\n",
    "plt.show()"
   ]
  },
  {
   "cell_type": "markdown",
   "metadata": {},
   "source": [
    "## Latitude vs. Wind Speed Plot"
   ]
  },
  {
   "cell_type": "code",
   "execution_count": 15,
   "metadata": {},
   "outputs": [
    {
     "data": {
      "image/png": "[encoded data removed]",
      "text/plain": [
       "<Figure size 432x288 with 1 Axes>"
      ]
     },
     "metadata": {
      "needs_background": "light"
     },
     "output_type": "display_data"
    }
   ],
   "source": [
    "lat_vs_windspd = weather_raw_data[\"Wind Speed\"]\n",
    "\n",
    "plt.scatter(lat_vs_temp,lat_vs_windspd)\n",
    "plt.title('City Latitude vs. Wind Speed(5/28/19)')\n",
    "plt.xlabel('Latitude')\n",
    "plt.ylabel('Wind Speed (mph)')\n",
    "plt.savefig('plotlatitudevswindspeed')\n",
    "plt.show()"
   ]
  },
  {
   "cell_type": "markdown",
   "metadata": {},
   "source": [
    "## Linear Regression"
   ]
  },
  {
   "cell_type": "code",
   "execution_count": 16,
   "metadata": {},
   "outputs": [],
   "source": [
    "#Linear Regression plots\n",
    "def plot_linear_regression(x_values, y_values, title, text_coordinates):\n",
    "    (slope, intercept, rvalue, pvalue, stderr) = linregress(x_values, y_values)\n",
    "    rege_values = x_values * slope + intercept\n",
    "    line = \"y = \" + str(round(slope,2)) + \"x + \" + str(round(intercept,2))\n",
    "    \n",
    "    plt.scatter(x_values,y_values)\n",
    "    plt.plot(x_values,rege_values,\"r-\")\n",
    "    plt.annotate(line,text_coordinates,fontsize=14,color=\"red\")\n",
    "    plt.xlabel(\"Latitude\")\n",
    "    plt.ylabel(title)\n",
    "    print(f\"The r-squared is: {rvalue}\")\n",
    "    plt.show()"
   ]
  },
  {
   "cell_type": "code",
   "execution_count": 17,
   "metadata": {},
   "outputs": [
    {
     "data": {
      "text/html": [
       "<div>\n",
       "<style scoped>\n",
       "    .dataframe tbody tr th:only-of-type {\n",
       "        vertical-align: middle;\n",
       "    }\n",
       "\n",
       "    .dataframe tbody tr th {\n",
       "        vertical-align: top;\n",
       "    }\n",
       "\n",
       "    .dataframe thead th {\n",
       "        text-align: right;\n",
       "    }\n",
       "</style>\n",
       "<table border=\"1\" class=\"dataframe\">\n",
       "  <thead>\n",
       "    <tr style=\"text-align: right;\">\n",
       "      <th></th>\n",
       "      <th>City</th>\n",
       "      <th>Latitude</th>\n",
       "      <th>Longitude</th>\n",
       "      <th>Max Temp</th>\n",
       "      <th>Humidity</th>\n",
       "      <th>Cloudiness</th>\n",
       "      <th>Wind Speed</th>\n",
       "      <th>Country</th>\n",
       "      <th>Date</th>\n",
       "    </tr>\n",
       "  </thead>\n",
       "  <tbody>\n",
       "    <tr>\n",
       "      <th>0</th>\n",
       "      <td>Sémbé</td>\n",
       "      <td>1.6481</td>\n",
       "      <td>14.5806</td>\n",
       "      <td>79.30</td>\n",
       "      <td>70</td>\n",
       "      <td>93</td>\n",
       "      <td>2.55</td>\n",
       "      <td>CG</td>\n",
       "      <td>1627236000</td>\n",
       "    </tr>\n",
       "    <tr>\n",
       "      <th>5</th>\n",
       "      <td>Provideniya</td>\n",
       "      <td>64.3833</td>\n",
       "      <td>-173.3000</td>\n",
       "      <td>46.72</td>\n",
       "      <td>99</td>\n",
       "      <td>100</td>\n",
       "      <td>6.67</td>\n",
       "      <td>RU</td>\n",
       "      <td>1627236000</td>\n",
       "    </tr>\n",
       "    <tr>\n",
       "      <th>6</th>\n",
       "      <td>Nanortalik</td>\n",
       "      <td>60.1432</td>\n",
       "      <td>-45.2371</td>\n",
       "      <td>45.28</td>\n",
       "      <td>75</td>\n",
       "      <td>100</td>\n",
       "      <td>12.97</td>\n",
       "      <td>GL</td>\n",
       "      <td>1627236000</td>\n",
       "    </tr>\n",
       "    <tr>\n",
       "      <th>7</th>\n",
       "      <td>Puerto del Rosario</td>\n",
       "      <td>28.5004</td>\n",
       "      <td>-13.8627</td>\n",
       "      <td>77.29</td>\n",
       "      <td>66</td>\n",
       "      <td>0</td>\n",
       "      <td>16.64</td>\n",
       "      <td>ES</td>\n",
       "      <td>1627236000</td>\n",
       "    </tr>\n",
       "    <tr>\n",
       "      <th>9</th>\n",
       "      <td>Grants</td>\n",
       "      <td>35.1473</td>\n",
       "      <td>-107.8514</td>\n",
       "      <td>73.92</td>\n",
       "      <td>55</td>\n",
       "      <td>72</td>\n",
       "      <td>11.97</td>\n",
       "      <td>US</td>\n",
       "      <td>1627236000</td>\n",
       "    </tr>\n",
       "  </tbody>\n",
       "</table>\n",
       "</div>"
      ],
      "text/plain": [
       "                 City  Latitude  Longitude  Max Temp  Humidity  Cloudiness  \\\n",
       "0               Sémbé    1.6481    14.5806     79.30        70          93   \n",
       "5         Provideniya   64.3833  -173.3000     46.72        99         100   \n",
       "6          Nanortalik   60.1432   -45.2371     45.28        75         100   \n",
       "7  Puerto del Rosario   28.5004   -13.8627     77.29        66           0   \n",
       "9              Grants   35.1473  -107.8514     73.92        55          72   \n",
       "\n",
       "   Wind Speed Country        Date  \n",
       "0        2.55      CG  1627236000  \n",
       "5        6.67      RU  1627236000  \n",
       "6       12.97      GL  1627236000  \n",
       "7       16.64      ES  1627236000  \n",
       "9       11.97      US  1627236000  "
      ]
     },
     "execution_count": 17,
     "metadata": {},
     "output_type": "execute_result"
    }
   ],
   "source": [
    "northem_df = weather_raw_data.loc[weather_raw_data[\"Latitude\"] >= 0,:]\n",
    "southem_df = weather_raw_data.loc[weather_raw_data[\"Latitude\"] < 0,:]\n",
    "\n",
    "northem_df.head()"
   ]
  },
  {
   "cell_type": "code",
   "execution_count": 18,
   "metadata": {},
   "outputs": [
    {
     "data": {
      "text/html": [
       "<div>\n",
       "<style scoped>\n",
       "    .dataframe tbody tr th:only-of-type {\n",
       "        vertical-align: middle;\n",
       "    }\n",
       "\n",
       "    .dataframe tbody tr th {\n",
       "        vertical-align: top;\n",
       "    }\n",
       "\n",
       "    .dataframe thead th {\n",
       "        text-align: right;\n",
       "    }\n",
       "</style>\n",
       "<table border=\"1\" class=\"dataframe\">\n",
       "  <thead>\n",
       "    <tr style=\"text-align: right;\">\n",
       "      <th></th>\n",
       "      <th>City</th>\n",
       "      <th>Latitude</th>\n",
       "      <th>Longitude</th>\n",
       "      <th>Max Temp</th>\n",
       "      <th>Humidity</th>\n",
       "      <th>Cloudiness</th>\n",
       "      <th>Wind Speed</th>\n",
       "      <th>Country</th>\n",
       "      <th>Date</th>\n",
       "    </tr>\n",
       "  </thead>\n",
       "  <tbody>\n",
       "    <tr>\n",
       "      <th>1</th>\n",
       "      <td>Cape Town</td>\n",
       "      <td>-33.9258</td>\n",
       "      <td>18.4232</td>\n",
       "      <td>61.29</td>\n",
       "      <td>46</td>\n",
       "      <td>33</td>\n",
       "      <td>6.49</td>\n",
       "      <td>ZA</td>\n",
       "      <td>1627236000</td>\n",
       "    </tr>\n",
       "    <tr>\n",
       "      <th>2</th>\n",
       "      <td>Ushuaia</td>\n",
       "      <td>-54.8000</td>\n",
       "      <td>-68.3000</td>\n",
       "      <td>36.70</td>\n",
       "      <td>85</td>\n",
       "      <td>60</td>\n",
       "      <td>5.59</td>\n",
       "      <td>AR</td>\n",
       "      <td>1627236000</td>\n",
       "    </tr>\n",
       "    <tr>\n",
       "      <th>3</th>\n",
       "      <td>Castro</td>\n",
       "      <td>-24.7911</td>\n",
       "      <td>-50.0119</td>\n",
       "      <td>70.07</td>\n",
       "      <td>41</td>\n",
       "      <td>1</td>\n",
       "      <td>7.70</td>\n",
       "      <td>BR</td>\n",
       "      <td>1627236000</td>\n",
       "    </tr>\n",
       "    <tr>\n",
       "      <th>4</th>\n",
       "      <td>Contamana</td>\n",
       "      <td>-7.3333</td>\n",
       "      <td>-75.0167</td>\n",
       "      <td>94.77</td>\n",
       "      <td>44</td>\n",
       "      <td>97</td>\n",
       "      <td>1.90</td>\n",
       "      <td>PE</td>\n",
       "      <td>1627236000</td>\n",
       "    </tr>\n",
       "    <tr>\n",
       "      <th>8</th>\n",
       "      <td>Bredasdorp</td>\n",
       "      <td>-34.5322</td>\n",
       "      <td>20.0403</td>\n",
       "      <td>58.73</td>\n",
       "      <td>56</td>\n",
       "      <td>100</td>\n",
       "      <td>4.61</td>\n",
       "      <td>ZA</td>\n",
       "      <td>1627236000</td>\n",
       "    </tr>\n",
       "  </tbody>\n",
       "</table>\n",
       "</div>"
      ],
      "text/plain": [
       "         City  Latitude  Longitude  Max Temp  Humidity  Cloudiness  \\\n",
       "1   Cape Town  -33.9258    18.4232     61.29        46          33   \n",
       "2     Ushuaia  -54.8000   -68.3000     36.70        85          60   \n",
       "3      Castro  -24.7911   -50.0119     70.07        41           1   \n",
       "4   Contamana   -7.3333   -75.0167     94.77        44          97   \n",
       "8  Bredasdorp  -34.5322    20.0403     58.73        56         100   \n",
       "\n",
       "   Wind Speed Country        Date  \n",
       "1        6.49      ZA  1627236000  \n",
       "2        5.59      AR  1627236000  \n",
       "3        7.70      BR  1627236000  \n",
       "4        1.90      PE  1627236000  \n",
       "8        4.61      ZA  1627236000  "
      ]
     },
     "execution_count": 18,
     "metadata": {},
     "output_type": "execute_result"
    }
   ],
   "source": [
    "southem_df.head()"
   ]
  },
  {
   "cell_type": "markdown",
   "metadata": {},
   "source": [
    "####  Northern Hemisphere - Max Temp vs. Latitude Linear Regression"
   ]
  },
  {
   "cell_type": "code",
   "execution_count": 19,
   "metadata": {},
   "outputs": [
    {
     "name": "stdout",
     "output_type": "stream",
     "text": [
      "The r-squared is: -0.6633568618911979\n"
     ]
    },
    {
     "data": {
      "image/png": "[encoded data removed]",
      "text/plain": [
       "<Figure size 432x288 with 1 Axes>"
      ]
     },
     "metadata": {
      "needs_background": "light"
     },
     "output_type": "display_data"
    },
    {
     "name": "stdout",
     "output_type": "stream",
     "text": [
      " The low r value indicates a highly negative correlation between latitude and maximum temperature\n"
     ]
    },
    {
     "data": {
      "text/plain": [
       "<Figure size 432x288 with 0 Axes>"
      ]
     },
     "metadata": {},
     "output_type": "display_data"
    }
   ],
   "source": [
    "x_values = northem_df[\"Latitude\"]\n",
    "y_values = northem_df[\"Max Temp\"]\n",
    "plot_linear_regression(x_values,y_values,'Max Temp',(8,35))\n",
    "\n",
    "plt.savefig('northemtempvslat')\n",
    "\n",
    "print(\" The low r value indicates a highly negative correlation between latitude and maximum temperature\")"
   ]
  },
  {
   "cell_type": "markdown",
   "metadata": {},
   "source": [
    "####  Southern Hemisphere - Max Temp vs. Latitude Linear Regression"
   ]
  },
  {
   "cell_type": "code",
   "execution_count": 20,
   "metadata": {},
   "outputs": [
    {
     "name": "stdout",
     "output_type": "stream",
     "text": [
      "The r-squared is: 0.8059224015238178\n"
     ]
    },
    {
     "data": {
      "image/png": "[encoded data removed]",
      "text/plain": [
       "<Figure size 432x288 with 1 Axes>"
      ]
     },
     "metadata": {
      "needs_background": "light"
     },
     "output_type": "display_data"
    },
    {
     "name": "stdout",
     "output_type": "stream",
     "text": [
      "The high r value indicates a highly positive correlation between latitude and maximum temperature.\n"
     ]
    },
    {
     "data": {
      "text/plain": [
       "<Figure size 432x288 with 0 Axes>"
      ]
     },
     "metadata": {},
     "output_type": "display_data"
    }
   ],
   "source": [
    "x_values = southem_df[\"Latitude\"]\n",
    "y_values = southem_df[\"Max Temp\"]\n",
    "plot_linear_regression(x_values,y_values,'Max Temp',(8,35))\n",
    "\n",
    "plt.savefig('southemtempvslat')\n",
    "\n",
    "print(\"The high r value indicates a highly positive correlation between latitude and maximum temperature.\")"
   ]
  },
  {
   "cell_type": "markdown",
   "metadata": {},
   "source": [
    "####  Northern Hemisphere - Humidity (%) vs. Latitude Linear Regression"
   ]
  },
  {
   "cell_type": "code",
   "execution_count": 21,
   "metadata": {},
   "outputs": [
    {
     "name": "stdout",
     "output_type": "stream",
     "text": [
      "The r-squared is: 0.055639453230267776\n"
     ]
    },
    {
     "data": {
      "image/png": "[encoded data removed]",
      "text/plain": [
       "<Figure size 432x288 with 1 Axes>"
      ]
     },
     "metadata": {
      "needs_background": "light"
     },
     "output_type": "display_data"
    },
    {
     "name": "stdout",
     "output_type": "stream",
     "text": [
      "The r value indicates no relationship between latitude and humidity.\n"
     ]
    },
    {
     "data": {
      "text/plain": [
       "<Figure size 432x288 with 0 Axes>"
      ]
     },
     "metadata": {},
     "output_type": "display_data"
    }
   ],
   "source": [
    "x_values = northem_df[\"Latitude\"]\n",
    "y_values = northem_df[\"Humidity\"]\n",
    "plot_linear_regression(x_values,y_values,'Humidity',(6,30))\n",
    "\n",
    "plt.savefig('northemhumidvslat')\n",
    "\n",
    "print(\"The r value indicates no relationship between latitude and humidity.\")"
   ]
  },
  {
   "cell_type": "markdown",
   "metadata": {},
   "source": [
    "####  Southern Hemisphere - Humidity (%) vs. Latitude Linear Regression"
   ]
  },
  {
   "cell_type": "code",
   "execution_count": 22,
   "metadata": {},
   "outputs": [
    {
     "name": "stdout",
     "output_type": "stream",
     "text": [
      "The r-squared is: -0.09559304714190606\n"
     ]
    },
    {
     "data": {
      "image/png": "[encoded data removed]",
      "text/plain": [
       "<Figure size 432x288 with 1 Axes>"
      ]
     },
     "metadata": {
      "needs_background": "light"
     },
     "output_type": "display_data"
    },
    {
     "name": "stdout",
     "output_type": "stream",
     "text": [
      "The r value indicates a slightly negative relationship between latitude and humidity.\n"
     ]
    },
    {
     "data": {
      "text/plain": [
       "<Figure size 432x288 with 0 Axes>"
      ]
     },
     "metadata": {},
     "output_type": "display_data"
    }
   ],
   "source": [
    "x_values = southem_df[\"Latitude\"]\n",
    "y_values = southem_df[\"Humidity\"]\n",
    "plot_linear_regression(x_values,y_values,'Humidity',(6,30))\n",
    "\n",
    "plt.savefig('southemhumidvslat')\n",
    "\n",
    "print(\"The r value indicates a slightly negative relationship between latitude and humidity.\")"
   ]
  },
  {
   "cell_type": "markdown",
   "metadata": {},
   "source": [
    "####  Northern Hemisphere - Cloudiness (%) vs. Latitude Linear Regression"
   ]
  },
  {
   "cell_type": "code",
   "execution_count": 23,
   "metadata": {},
   "outputs": [
    {
     "name": "stdout",
     "output_type": "stream",
     "text": [
      "The r-squared is: -0.03203067168033822\n"
     ]
    },
    {
     "data": {
      "image/png": "[encoded data removed]",
      "text/plain": [
       "<Figure size 432x288 with 1 Axes>"
      ]
     },
     "metadata": {
      "needs_background": "light"
     },
     "output_type": "display_data"
    },
    {
     "name": "stdout",
     "output_type": "stream",
     "text": [
      "The r value indicates a slightly negative correlation between latitude and cloudiness.\n"
     ]
    },
    {
     "data": {
      "text/plain": [
       "<Figure size 432x288 with 0 Axes>"
      ]
     },
     "metadata": {},
     "output_type": "display_data"
    }
   ],
   "source": [
    "x_values = northem_df[\"Latitude\"]\n",
    "y_values = northem_df[\"Cloudiness\"]\n",
    "plot_linear_regression(x_values,y_values,'Cloudiness',(3,15))\n",
    "\n",
    "plt.savefig('northemcloudvslat')\n",
    "\n",
    "print(\"The r value indicates a slightly negative correlation between latitude and cloudiness.\")"
   ]
  },
  {
   "cell_type": "markdown",
   "metadata": {},
   "source": [
    "####  Southern Hemisphere - Cloudiness (%) vs. Latitude Linear Regression"
   ]
  },
  {
   "cell_type": "code",
   "execution_count": 24,
   "metadata": {},
   "outputs": [
    {
     "name": "stdout",
     "output_type": "stream",
     "text": [
      "The r-squared is: -0.22322448647788046\n"
     ]
    },
    {
     "data": {
      "image/png": "[encoded data removed]",
      "text/plain": [
       "<Figure size 432x288 with 1 Axes>"
      ]
     },
     "metadata": {
      "needs_background": "light"
     },
     "output_type": "display_data"
    },
    {
     "name": "stdout",
     "output_type": "stream",
     "text": [
      "The low r value indicates a negative relationship between latitude and cloudiness.\n"
     ]
    },
    {
     "data": {
      "text/plain": [
       "<Figure size 432x288 with 0 Axes>"
      ]
     },
     "metadata": {},
     "output_type": "display_data"
    }
   ],
   "source": [
    "x_values = southem_df[\"Latitude\"]\n",
    "y_values = southem_df[\"Cloudiness\"]\n",
    "plot_linear_regression(x_values,y_values,'Cloudiness',(6,30))\n",
    "\n",
    "plt.savefig('southemcloudvslat')\n",
    "\n",
    "print(\"The low r value indicates a negative relationship between latitude and cloudiness.\")"
   ]
  },
  {
   "cell_type": "markdown",
   "metadata": {},
   "source": [
    "####  Northern Hemisphere - Wind Speed (mph) vs. Latitude Linear Regression"
   ]
  },
  {
   "cell_type": "code",
   "execution_count": 25,
   "metadata": {},
   "outputs": [
    {
     "name": "stdout",
     "output_type": "stream",
     "text": [
      "The r-squared is: -0.14828421118943888\n"
     ]
    },
    {
     "data": {
      "image/png": "[encoded data removed]",
      "text/plain": [
       "<Figure size 432x288 with 1 Axes>"
      ]
     },
     "metadata": {
      "needs_background": "light"
     },
     "output_type": "display_data"
    },
    {
     "name": "stdout",
     "output_type": "stream",
     "text": [
      "The r value indicates a slightly negative relationship between latitude and wind speed.\n"
     ]
    },
    {
     "data": {
      "text/plain": [
       "<Figure size 432x288 with 0 Axes>"
      ]
     },
     "metadata": {},
     "output_type": "display_data"
    }
   ],
   "source": [
    "x_values = northem_df[\"Latitude\"]\n",
    "y_values = northem_df[\"Wind Speed\"]\n",
    "plot_linear_regression(x_values,y_values,'Wind Speed',(6,30))\n",
    "\n",
    "plt.savefig('northemwindvslat')\n",
    "\n",
    "print(\"The r value indicates a slightly negative relationship between latitude and wind speed.\")"
   ]
  },
  {
   "cell_type": "markdown",
   "metadata": {},
   "source": [
    "####  Southern Hemisphere - Wind Speed (mph) vs. Latitude Linear Regression"
   ]
  },
  {
   "cell_type": "code",
   "execution_count": 26,
   "metadata": {},
   "outputs": [
    {
     "name": "stdout",
     "output_type": "stream",
     "text": [
      "The r-squared is: -0.19478929236291792\n"
     ]
    },
    {
     "data": {
      "image/png": "[encoded data removed]",
      "text/plain": [
       "<Figure size 432x288 with 1 Axes>"
      ]
     },
     "metadata": {
      "needs_background": "light"
     },
     "output_type": "display_data"
    },
    {
     "name": "stdout",
     "output_type": "stream",
     "text": [
      "The low r value indicates a negative relationship between latitude and wind speed. \n"
     ]
    },
    {
     "data": {
      "text/plain": [
       "<Figure size 432x288 with 0 Axes>"
      ]
     },
     "metadata": {},
     "output_type": "display_data"
    }
   ],
   "source": [
    "x_values = southem_df[\"Latitude\"]\n",
    "y_values = southem_df[\"Wind Speed\"]\n",
    "plot_linear_regression(x_values,y_values,'Wind Speed',(6,30))\n",
    "\n",
    "plt.savefig('southemwindvslat')\n",
    "\n",
    "print(\"The low r value indicates a negative relationship between latitude and wind speed. \")"
   ]
  },
  {
   "cell_type": "code",
   "execution_count": null,
   "metadata": {},
   "outputs": [],
   "source": []
  }
 ],
 "metadata": {
  "anaconda-cloud": {},
  "kernel_info": {
   "name": "python3"
  },
  "kernelspec": {
   "display_name": "Python 3",
   "language": "python",
   "name": "python3"
  },
  "language_info": {
   "codemirror_mode": {
    "name": "ipython",
    "version": 3
   },
   "file_extension": ".py",
   "mimetype": "text/x-python",
   "name": "python",
   "nbconvert_exporter": "python",
   "pygments_lexer": "ipython3",
   "version": "3.8.8"
  },
  "latex_envs": {
   "LaTeX_envs_menu_present": true,
   "autoclose": false,
   "autocomplete": true,
   "bibliofile": "biblio.bib",
   "cite_by": "apalike",
   "current_citInitial": 1,
   "eqLabelWithNumbers": true,
   "eqNumInitial": 1,
   "hotkeys": {
    "equation": "Ctrl-E",
    "itemize": "Ctrl-I"
   },
   "labels_anchors": false,
   "latex_user_defs": false,
   "report_style_numbering": false,
   "user_envs_cfg": false
  },
  "nteract": {
   "version": "0.12.3"
  }
 },
 "nbformat": 4,
 "nbformat_minor": 4
}
